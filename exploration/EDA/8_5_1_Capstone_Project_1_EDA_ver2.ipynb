{
 "cells": [
  {
   "cell_type": "markdown",
   "metadata": {},
   "source": [
    "## Import the relevant packages"
   ]
  },
  {
   "cell_type": "code",
   "execution_count": null,
   "metadata": {},
   "outputs": [],
   "source": [
    "import pandas as pd\n",
    "import matplotlib.pyplot as plt\n",
    "import seaborn as sns\n",
    "%matplotlib inline\n",
    "import numpy as np\n",
    "from sklearn.feature_selection import SelectKBest\n",
    "from sklearn.feature_selection import chi2\n",
    "from sklearn.model_selection import train_test_split"
   ]
  },
  {
   "cell_type": "code",
   "execution_count": null,
   "metadata": {},
   "outputs": [],
   "source": [
    "# Read the CSV into a dataframe\n",
    "\n",
    "header_names = ['sample_code_number', 'clump_thickness', 'uniformity_cell_size', 'uniformity_cell_shape', 'marginal_adhesion', 'cell_size', 'bare_nuclei', 'bland_chromatin', 'normal_nucleoli', 'mitosis', 'class']\n",
    "data_df = pd.read_csv('../data/breast-cancer-wisconsin - Copy.csv', header = None, names = header_names)\n",
    "\n"
   ]
  },
  {
   "cell_type": "markdown",
   "metadata": {},
   "source": [
    "## Data wrangling"
   ]
  },
  {
   "cell_type": "code",
   "execution_count": null,
   "metadata": {
    "scrolled": true
   },
   "outputs": [],
   "source": [
    "# Looking back at lecture, it is also possible to use regular expression to determine which entries are integers. Give this a try later.\n",
    "indices_with_unexpected_values_in_bare_nuclei = ~data_df.bare_nuclei.isin(['1','2','3','4','5','6','7','8','9','10'])\n",
    "\n",
    "rows_with_unexpected_values_in_bare_nuclei = data_df[~data_df.bare_nuclei.isin(['1','2','3','4','5','6','7','8','9','10'])]\n",
    "\n",
    "print(rows_with_unexpected_values_in_bare_nuclei[['bare_nuclei', 'class']])\n",
    "missing_by_tumor_class = rows_with_unexpected_values_in_bare_nuclei[['bare_nuclei', 'class']].groupby('class').count()\n",
    "population_by_tumor_class = data_df['class'].value_counts()\n",
    "\n",
    "percentage_missing_in_benign = 100*missing_by_tumor_class.loc[2,'bare_nuclei']/population_by_tumor_class[2]\n",
    "percentage_missing_in_malignant = 100*missing_by_tumor_class.loc[4,'bare_nuclei']/population_by_tumor_class[4]\n",
    "\n",
    "print(\"Percentage of missing bare_nuclei in benign tumors: {0:2.2f}%\".format( percentage_missing_in_benign))\n",
    "print(\"Percentage of missing bare_nuclei in malignant tumors: {0:2.2f}%\".format( percentage_missing_in_malignant))\n",
    "# Class: (2 for benign, 4 for malignant)\n",
    "\n",
    "data_df = data_df[~indices_with_unexpected_values_in_bare_nuclei]\n",
    "\n",
    "data_df.bare_nuclei = data_df.bare_nuclei.astype('int64')"
   ]
  },
  {
   "cell_type": "markdown",
   "metadata": {},
   "source": [
    "Since the missing values are a small portion of the entire dataset, it is safe to drop the missing data and change the type of bare_nuclei to int. "
   ]
  },
  {
   "cell_type": "code",
   "execution_count": null,
   "metadata": {},
   "outputs": [],
   "source": [
    "data_df = data_df[~indices_with_unexpected_values_in_bare_nuclei]\n",
    "\n",
    "data_df.bare_nuclei = data_df.bare_nuclei.astype('int64')\n",
    "data_df.info()"
   ]
  },
  {
   "cell_type": "code",
   "execution_count": null,
   "metadata": {},
   "outputs": [],
   "source": [
    "attributes = ['sample_code_number', 'clump_thickness', 'uniformity_cell_size', 'uniformity_cell_shape', 'marginal_adhesion', 'cell_size', 'bare_nuclei', 'bland_chromatin', 'normal_nucleoli', 'mitosis', 'class']\n",
    "pd.plotting.scatter_matrix(data_df[attributes], figsize=(20,20), range_padding=0.1)\n",
    "\n",
    "plt.savefig('scatter_matrix.png')\n",
    "\n",
    "#plt.xlabels(rotation = 60)\n",
    "plt.show()"
   ]
  },
  {
   "cell_type": "code",
   "execution_count": null,
   "metadata": {},
   "outputs": [],
   "source": [
    "correlation_matrix = data_df.corr()\n",
    "correlation_matrix"
   ]
  },
  {
   "cell_type": "code",
   "execution_count": null,
   "metadata": {},
   "outputs": [],
   "source": [
    "diverging_cmap = sns.diverging_palette(220, 10, as_cmap=True)\n",
    "\n",
    "sns.heatmap(correlation_matrix, cmap=diverging_cmap, center=0)"
   ]
  },
  {
   "cell_type": "code",
   "execution_count": null,
   "metadata": {},
   "outputs": [],
   "source": [
    "correlation_matrix['class'].plot(kind='bar')\n",
    "plt.xticks(rotation = 60)\n",
    "plt.show()"
   ]
  },
  {
   "cell_type": "markdown",
   "metadata": {},
   "source": [
    "## Observations\n",
    "\n",
    "We can see extremely strong correlation between 'uniformity_cell_size' and 'class'. Similarly, 'uniformity_cell_shape' and 'bare_nuclei' are very strongly correlated with 'class'.\n",
    "\n",
    "However, 'uniformity_cell_size' and 'uniformity_cell_shape' are very strongly correlated as well. We will have to be careful when using machine learning algorithms on these highly correlated features."
   ]
  },
  {
   "cell_type": "markdown",
   "metadata": {},
   "source": [
    "## Hypothesis testing\n",
    "\n",
    "We will test whether there is significant difference between 'uniformity_cell_size' for benign vs malignant samples.\n",
    "\n",
    "Lets define\n",
    "\n",
    "$\\mu_{UCS}^{benign}$:  'uniformity_cell_size' for benign samples\n",
    "\n",
    "$\\mu_{UCS}^{malignant}$:  'uniformity_cell_size' for malignant samples\n",
    "\n",
    "and test the following hypothesis\n",
    "\n",
    "$H_0$: $\\mu_{UCS}^{benign} = \\mu_{UCS}^{malignant}$\n",
    "\n",
    "$H_a$: $\\mu_{UCS}^{benign} \\neq \\mu_{UCS}^{malignant}$"
   ]
  },
  {
   "cell_type": "code",
   "execution_count": null,
   "metadata": {},
   "outputs": [],
   "source": [
    "# extract the two populations\n",
    "benign_UCS = data_df[data_df['class'] == 2]['uniformity_cell_size']\n",
    "\n",
    "malignant_UCS = data_df[data_df['class'] == 4]['uniformity_cell_size']\n"
   ]
  },
  {
   "cell_type": "code",
   "execution_count": null,
   "metadata": {},
   "outputs": [],
   "source": [
    "benign_UCS"
   ]
  },
  {
   "cell_type": "code",
   "execution_count": null,
   "metadata": {},
   "outputs": [],
   "source": [
    "malignant_UCS"
   ]
  },
  {
   "cell_type": "code",
   "execution_count": null,
   "metadata": {},
   "outputs": [],
   "source": [
    "# Define bootstrapping functions\n",
    "\n",
    "def bootstrap_replicate_1d(data, func):\n",
    "    return func(np.random.choice(data, size=len(data)))\n",
    "\n",
    "def draw_bs_reps(data, func, size=1):\n",
    "    \"\"\"Draw bootstrap replicates.\"\"\"\n",
    "\n",
    "    # Initialize array of replicates: bs_replicates\n",
    "    bs_replicates = np.empty(size)\n",
    "\n",
    "    # Generate replicates\n",
    "    for i in range(size):\n",
    "        bs_replicates[i] = bootstrap_replicate_1d(data,func)\n",
    "\n",
    "    return bs_replicates\n"
   ]
  },
  {
   "cell_type": "code",
   "execution_count": null,
   "metadata": {},
   "outputs": [],
   "source": [
    "# Look at the overall and individual population means\n",
    "\n",
    "mean_UCS = np.mean(data_df['uniformity_cell_size'])\n",
    "print(mean_UCS)\n",
    "\n",
    "mean_UCS_benign = np.mean(benign_UCS)\n",
    "mean_UCS_malignant = np.mean(malignant_UCS)\n",
    "\n",
    "print(mean_UCS_benign)\n",
    "print(mean_UCS_malignant)"
   ]
  },
  {
   "cell_type": "code",
   "execution_count": null,
   "metadata": {},
   "outputs": [],
   "source": [
    "# Shift the benign and malignant population means to the total population means assuming the null hypothesis\n",
    "\n",
    "\n",
    "shifted_benign_UCS = benign_UCS - mean_UCS_benign + mean_UCS\n",
    "shifted_malignant_UCS = malignant_UCS - mean_UCS_malignant + mean_UCS"
   ]
  },
  {
   "cell_type": "code",
   "execution_count": null,
   "metadata": {},
   "outputs": [],
   "source": [
    "# draw boostrap replicates\n",
    "benign_UCS_replicates= draw_bs_reps(shifted_benign_UCS, np.mean, size=1000000)\n",
    "malignant_UCS_replicates= draw_bs_reps(shifted_malignant_UCS, np.mean, size=1000000)\n",
    "\n",
    "diff_of_means_bs_replicates = benign_UCS_replicates - malignant_UCS_replicates\n",
    "\n",
    "# compute p-value\n",
    "p_value = np.sum((np.abs(diff_of_means_bs_replicates) >= (mean_UCS_malignant - mean_UCS_benign)))/float(len(diff_of_means_bs_replicates))\n",
    "print(p_value)"
   ]
  },
  {
   "cell_type": "markdown",
   "metadata": {},
   "source": [
    "### Conclusion\n",
    "\n",
    "Since p_value < 1e-6, we can reject the null hypothessis.\n",
    "\n",
    "There is strong statistical evidence that the mean uniformity of cell size is different for benign versus malignant samples. \n",
    "\n",
    "There is also big practical difference (6.5-1.3 = 5.2 on a scale of 10) in the uniformity of cell size of benign versus malignant samples."
   ]
  },
  {
   "cell_type": "markdown",
   "metadata": {},
   "source": [
    "### Feature Selection\n",
    "Features will be selected using SelectKBest function on training data only"
   ]
  },
  {
   "cell_type": "code",
   "execution_count": null,
   "metadata": {},
   "outputs": [],
   "source": [
    "X = data_df.drop(['class'], axis=1)\n",
    "#X.head()\n",
    "y = data_df['class']\n",
    "#y\n",
    "\n",
    "# Split the data into a training and test set.\n",
    "X_train, X_test, y_train, ytest = train_test_split(X, y, test_size = 0.25,  random_state=42)"
   ]
  },
  {
   "cell_type": "code",
   "execution_count": null,
   "metadata": {},
   "outputs": [],
   "source": [
    "best_features = SelectKBest(score_func=chi2, k=\"all\")\n",
    "best_features.fit(X_train, y_train)\n",
    "\n",
    "df_scores = pd.DataFrame(best_features.scores_)\n",
    "df_pvalues = pd.DataFrame(best_features.pvalues_)\n",
    "df_columns = pd.DataFrame(X_train.columns)\n",
    "\n",
    "df_best_features = pd.concat( [df_scores, df_pvalues], axis=1)\n",
    "df_best_features.columns = ['Score', 'p-value']\n",
    "df_best_features.set_index(X_train.columns)"
   ]
  },
  {
   "cell_type": "markdown",
   "metadata": {},
   "source": [
    "### Conclusion\n",
    "\n",
    "All the features have a strong statistical significance with tissue classification. Therefore, all the features will used in predictive modeling."
   ]
  }
 ],
 "metadata": {
  "kernelspec": {
   "display_name": "Python 3",
   "language": "python",
   "name": "python3"
  },
  "language_info": {
   "codemirror_mode": {
    "name": "ipython",
    "version": 3
   },
   "file_extension": ".py",
   "mimetype": "text/x-python",
   "name": "python",
   "nbconvert_exporter": "python",
   "pygments_lexer": "ipython3",
   "version": "3.6.6"
  }
 },
 "nbformat": 4,
 "nbformat_minor": 2
}
